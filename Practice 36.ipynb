{
 "cells": [
  {
   "cell_type": "code",
   "execution_count": 18,
   "id": "d1046450",
   "metadata": {},
   "outputs": [],
   "source": [
    "# This exercise is Part 4 of 4 of the birthday data exercise series.\n",
    "# In the previous exercise we counted how many birthdays there are in each month in our dictionary of birthdays.\n",
    "# In this exercise, use the bokeh Python library to plot a histogram of which monthsyour friends have birthdays in! Because it would take a long time for you to input the months of various people, you can use my scientist birthday JSON file. Just parse out the months and draw your histogram.\n",
    "# If you are using a purely web-based interface for coding, this exercise won’t work for you, since it requires installing the bokeh Python package. Now might be a good time to install Python on your own computer."
   ]
  },
  {
   "cell_type": "code",
   "execution_count": 20,
   "id": "7fa8f847",
   "metadata": {},
   "outputs": [
    {
     "name": "stdout",
     "output_type": "stream",
     "text": [
      "Collecting package metadata (current_repodata.json): ...working... done\n",
      "Solving environment: ...working... done\n",
      "\n",
      "# All requested packages already installed.\n",
      "\n",
      "\n",
      "Note: you may need to restart the kernel to use updated packages.\n"
     ]
    }
   ],
   "source": [
    "conda install bokeh"
   ]
  },
  {
   "cell_type": "code",
   "execution_count": 18,
   "id": "6bedac75",
   "metadata": {},
   "outputs": [],
   "source": [
    "# Code copied from Practice 35:\n",
    "\n",
    "import json\n",
    "with open (\"34_practice.json\", \"r\") as f:\n",
    "    my_dictionary = json.load(f)\n",
    "\n",
    "list_of_dates = [value for value in my_dictionary.values()]\n",
    "list_of_months = []\n",
    "for date in list_of_dates:\n",
    "    x = date.split(\"/\")\n",
    "    list_of_months.append(x[1])\n",
    "\n",
    "months = {    \n",
    "\"January\" : 0,\n",
    "\"February\" : 0,\n",
    "\"March\" : 0,\n",
    "\"April\" : 0,\n",
    "\"May\" : 0,\n",
    "\"June\" : 0,\n",
    "\"July\" : 0,\n",
    "\"August\" : 0,\n",
    "\"September\" : 0,\n",
    "\"October\" : 0,\n",
    "\"November\" : 0,\n",
    "\"December\" : 0}\n",
    "\n",
    "for month in list_of_months:\n",
    "    if month == \"01\":\n",
    "        months[\"January\"] += 1\n",
    "    elif month == \"02\":\n",
    "        months[\"February\"] += 1\n",
    "    elif month == \"03\":\n",
    "        months[\"March\"] += 1\n",
    "    elif month == \"04\":\n",
    "        months[\"April\"] += 1\n",
    "    elif month == \"05\":\n",
    "        months[\"May\"] += 1\n",
    "    elif month == \"06\":\n",
    "        months[\"June\"] += 1\n",
    "    elif month == \"07\":\n",
    "        months[\"July\"] += 1\n",
    "    elif month == \"08\":\n",
    "        months[\"August\"] += 1\n",
    "    elif month == \"09\":\n",
    "        months[\"September\"] += 1\n",
    "    elif month == \"10\":\n",
    "        months[\"October\"] += 1\n",
    "    elif month == \"11\":\n",
    "        months[\"November\"] += 1\n",
    "    elif month == \"12\":\n",
    "        months[\"December\"] +=1\n",
    "    else:\n",
    "        print(\"Error01\")"
   ]
  },
  {
   "cell_type": "code",
   "execution_count": 19,
   "id": "32160aca",
   "metadata": {},
   "outputs": [],
   "source": [
    "from bokeh.plotting import figure, show, output_file\n",
    "\n",
    "output_file(\"36_Practice.html\")\n",
    "x = [\"January\", \"February\", \"March\", \"April\", \"May\", \"June\", \"July\", \"August\", \"September\", \"October\", \"November\", \"December\"]\n",
    "y = [x for x in months.values()]\n",
    "\n",
    "p = figure(title = \"Birthday Plot\", x_range = x_categories)\n",
    "p.vbar(x = x, top = y, width = 0.5)\n",
    "\n",
    "show(p)"
   ]
  }
 ],
 "metadata": {
  "kernelspec": {
   "display_name": "Python 3 (ipykernel)",
   "language": "python",
   "name": "python3"
  },
  "language_info": {
   "codemirror_mode": {
    "name": "ipython",
    "version": 3
   },
   "file_extension": ".py",
   "mimetype": "text/x-python",
   "name": "python",
   "nbconvert_exporter": "python",
   "pygments_lexer": "ipython3",
   "version": "3.9.13"
  }
 },
 "nbformat": 4,
 "nbformat_minor": 5
}
