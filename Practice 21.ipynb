{
 "cells": [
  {
   "cell_type": "code",
   "execution_count": 5,
   "id": "86daf95e",
   "metadata": {},
   "outputs": [],
   "source": [
    "# Take the code from the How To Decode A Website exercise (if you didn’t do it or just want to play with some different code, use the code from the solution), and instead of printing the results to a screen, write the results to a txt file. In your code, just make up a name for the file you are saving to.\n",
    "# Extras:\n",
    "    # Ask the user to specify the name of the output file that will be saved."
   ]
  },
  {
   "cell_type": "code",
   "execution_count": 10,
   "id": "eb0be3df",
   "metadata": {},
   "outputs": [],
   "source": [
    "with open ('hope_you_dont_have_this_file.txt', 'w') as open_file:\n",
    "    open_file.write(\"\"\"import requests\n",
    "r = requests.get('https://www.nytimes.com/')\n",
    "my_data = r.text\n",
    "\n",
    "from bs4 import BeautifulSoup\n",
    "soup = BeautifulSoup(my_data)\n",
    "\n",
    "\n",
    "article_list = []\n",
    "for title in soup.find_all('h3', {'class': 'indicate-hover'}):\n",
    "    article_list.append(title.text.strip())\n",
    "\n",
    "article_list.remove(\"Wordle\")\n",
    "article_list.remove(\"The Best First Wordle Words\")\n",
    "article_list.remove(\"Spelling Bee\")\n",
    "article_list.remove(\"The Crossword\")\n",
    "article_list.remove(\"Letter Boxed\")\n",
    "article_list.remove(\"Tiles\")\n",
    "\n",
    "a=1\n",
    "for x in article_list:\n",
    "    print(a, x)\n",
    "    a += 1\"\"\")"
   ]
  },
  {
   "cell_type": "code",
   "execution_count": 1,
   "id": "e5f9a0e1",
   "metadata": {},
   "outputs": [
    {
     "name": "stdout",
     "output_type": "stream",
     "text": [
      "Please enter the file name\n",
      "a_file_like_this\n"
     ]
    }
   ],
   "source": [
    "file_name = input(str(\"Please enter the file name\\n\"))\n",
    "file_name = file_name + \".txt\"\n",
    "with open (file_name, 'w') as open_file:\n",
    "    open_file.write(\"\"\"import requests\n",
    "r = requests.get('https://www.nytimes.com/')\n",
    "my_data = r.text\n",
    "\n",
    "from bs4 import BeautifulSoup\n",
    "soup = BeautifulSoup(my_data)\n",
    "\n",
    "\n",
    "article_list = []\n",
    "for title in soup.find_all('h3', {'class': 'indicate-hover'}):\n",
    "    article_list.append(title.text.strip())\n",
    "\n",
    "article_list.remove(\"Wordle\")\n",
    "article_list.remove(\"The Best First Wordle Words\")\n",
    "article_list.remove(\"Spelling Bee\")\n",
    "article_list.remove(\"The Crossword\")\n",
    "article_list.remove(\"Letter Boxed\")\n",
    "article_list.remove(\"Tiles\")\n",
    "\n",
    "a=1\n",
    "for x in article_list:\n",
    "    print(a, x)\n",
    "    a += 1\"\"\")"
   ]
  },
  {
   "cell_type": "code",
   "execution_count": null,
   "id": "0f8aa31d",
   "metadata": {},
   "outputs": [],
   "source": []
  }
 ],
 "metadata": {
  "kernelspec": {
   "display_name": "Python 3 (ipykernel)",
   "language": "python",
   "name": "python3"
  },
  "language_info": {
   "codemirror_mode": {
    "name": "ipython",
    "version": 3
   },
   "file_extension": ".py",
   "mimetype": "text/x-python",
   "name": "python",
   "nbconvert_exporter": "python",
   "pygments_lexer": "ipython3",
   "version": "3.9.13"
  }
 },
 "nbformat": 4,
 "nbformat_minor": 5
}
