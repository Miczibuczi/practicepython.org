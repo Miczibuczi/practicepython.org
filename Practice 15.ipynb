{
 "cells": [
  {
   "cell_type": "code",
   "execution_count": 1,
   "id": "ac5eaa18",
   "metadata": {},
   "outputs": [],
   "source": [
    "# Write a program (using functions!) that asks the user for a long string containing multiple words. Print back to the user the same string, except with the words in backwards order.\n",
    "# For example, say I type the string: \n",
    "# My name is Michele\n",
    "# Then I would see the string:\n",
    "# Michele is name My"
   ]
  },
  {
   "cell_type": "code",
   "execution_count": 32,
   "id": "35718a6a",
   "metadata": {},
   "outputs": [
    {
     "name": "stdout",
     "output_type": "stream",
     "text": [
      "Please enter a string containing multiple words\n",
      "coś takiego chciałbym odwrócić\n",
      "\n",
      "odwrócić chciałbym takiego coś "
     ]
    }
   ],
   "source": [
    "def reversed_word_order():\n",
    "    string = input(\"Please enter a string containing multiple words\\n\")\n",
    "    a = string.split(\" \")\n",
    "    b = []\n",
    "    for x in range (0,len(a)):\n",
    "        b.append(a[len(a)-1-x])\n",
    "    print()\n",
    "    for word in b:\n",
    "        print (word, end = \" \")\n",
    "\n",
    "reversed_word_order()"
   ]
  },
  {
   "cell_type": "code",
   "execution_count": null,
   "id": "e40be136",
   "metadata": {},
   "outputs": [],
   "source": []
  }
 ],
 "metadata": {
  "kernelspec": {
   "display_name": "Python 3 (ipykernel)",
   "language": "python",
   "name": "python3"
  },
  "language_info": {
   "codemirror_mode": {
    "name": "ipython",
    "version": 3
   },
   "file_extension": ".py",
   "mimetype": "text/x-python",
   "name": "python",
   "nbconvert_exporter": "python",
   "pygments_lexer": "ipython3",
   "version": "3.9.13"
  }
 },
 "nbformat": 4,
 "nbformat_minor": 5
}
