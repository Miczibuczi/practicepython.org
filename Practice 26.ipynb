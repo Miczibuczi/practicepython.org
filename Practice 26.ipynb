{
 "cells": [
  {
   "cell_type": "code",
   "execution_count": 1,
   "id": "a22d1984",
   "metadata": {},
   "outputs": [
    {
     "ename": "IndentationError",
     "evalue": "unexpected indent (2217620892.py, line 5)",
     "output_type": "error",
     "traceback": [
      "\u001b[1;36m  File \u001b[1;32m\"C:\\Users\\HP\\AppData\\Local\\Temp\\ipykernel_4256\\2217620892.py\"\u001b[1;36m, line \u001b[1;32m5\u001b[0m\n\u001b[1;33m    [[1, 2, 0],\u001b[0m\n\u001b[1;37m    ^\u001b[0m\n\u001b[1;31mIndentationError\u001b[0m\u001b[1;31m:\u001b[0m unexpected indent\n"
     ]
    }
   ],
   "source": [
    "# As you may have guessed, we are trying to build up to a full tic-tac-toe board. However, this is significantly more than half an hour of coding, so we’re doing it in pieces.\n",
    "# Today, we will simply focus on checking whether someone has WON a game of Tic Tac Toe, not worrying about how the moves were made.\n",
    "# If a game of Tic Tac Toe is represented as a list of lists, like so:\n",
    "# \"\"\"game =\n",
    "   [[1, 2, 0],\n",
    "\t[2, 1, 0],\n",
    "\t[2, 1, 1]]\n",
    "# where a 0 means an empty square, a 1 means that player 1 put their token in that space, and a 2 means that player 2 put their token in that space.\n",
    "# Your task this week: given a 3 by 3 list of lists that represents a Tic Tac Toe game board, tell me whether anyone has won, and tell me which player won, if any. A Tic Tac Toe win is 3 in a row - either in a row, a column, or a diagonal. Don’t worry about the case where TWO people have won - assume that in every board there will only be one winner."
   ]
  },
  {
   "cell_type": "code",
   "execution_count": 10,
   "id": "7c85b8a8",
   "metadata": {},
   "outputs": [
    {
     "name": "stdout",
     "output_type": "stream",
     "text": [
      "Player 1 wins\n"
     ]
    }
   ],
   "source": [
    "list1 = [1,20,1]\n",
    "list2 = [0,20,1]\n",
    "list3 = [20,1,1]\n",
    "\n",
    "# 0 - no one put a token in that space\n",
    "# 1 - player 1 put a token i that space\n",
    "# 20 - player 2 put a token i that space\n",
    "\n",
    "game = [list1, \n",
    "        list2,\n",
    "        list3]\n",
    "\n",
    "# kolumns:\n",
    "sum1 = list1[0]+list2[0]+list3[0]\n",
    "sum2 = list1[1]+list2[1]+list3[1]\n",
    "sum3 = list1[2]+list2[2]+list3[2]\n",
    "\n",
    "# rows:\n",
    "sum4 = list1[0]+list1[1]+list1[2]\n",
    "sum5 = list2[0]+list2[1]+list2[2]\n",
    "sum6 = list3[0]+list3[1]+list3[2]\n",
    "\n",
    "# diagonals:\n",
    "sum7 = list1[0]+list2[1]+list3[2]\n",
    "sum8 = list1[2]+list2[1]+list3[0]\n",
    "\n",
    "# win condition:\n",
    "if sum1 == 3 or sum2 == 3 or sum3 == 3 or sum4 == 3 or sum5 == 3 or sum6 == 3 or sum7 == 3 or sum8 == 3:\n",
    "    print(\"Player 1 wins\")\n",
    "elif sum1 == 60 or sum2 == 60 or sum3 == 60 or sum4 == 60 or sum5 == 60 or sum6 == 60 or sum7 == 60 or sum8 == 60:\n",
    "    print(\"Player 2 wins\")"
   ]
  }
 ],
 "metadata": {
  "kernelspec": {
   "display_name": "Python 3 (ipykernel)",
   "language": "python",
   "name": "python3"
  },
  "language_info": {
   "codemirror_mode": {
    "name": "ipython",
    "version": 3
   },
   "file_extension": ".py",
   "mimetype": "text/x-python",
   "name": "python",
   "nbconvert_exporter": "python",
   "pygments_lexer": "ipython3",
   "version": "3.9.13"
  }
 },
 "nbformat": 4,
 "nbformat_minor": 5
}
