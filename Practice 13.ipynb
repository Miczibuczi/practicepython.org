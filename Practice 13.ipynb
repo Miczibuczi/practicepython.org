{
 "cells": [
  {
   "cell_type": "code",
   "execution_count": 1,
   "id": "912d9591",
   "metadata": {},
   "outputs": [],
   "source": [
    "# Write a program that asks the user how many Fibonnaci numbers to generate and then generates them. Take this opportunity to think about how you can use functions. Make sure to ask the user to enter the number of numbers in the sequence to generate."
   ]
  },
  {
   "cell_type": "code",
   "execution_count": 10,
   "id": "e23d0b8b",
   "metadata": {},
   "outputs": [
    {
     "name": "stdout",
     "output_type": "stream",
     "text": [
      "Please enter how many fibonacci numbers do you want to gererate\n",
      "kilka\n",
      "Please enter how many fibonacci numbers do you want to gererate\n",
      "15\n"
     ]
    },
    {
     "data": {
      "text/plain": [
       "[0, 1, 1, 2, 3, 5, 8, 13, 21, 34, 55, 89, 144, 233, 377]"
      ]
     },
     "execution_count": 10,
     "metadata": {},
     "output_type": "execute_result"
    }
   ],
   "source": [
    "import re\n",
    "def fib():\n",
    "    num = \"none\"\n",
    "    while re.search (\"\\D\", num):\n",
    "        num = input(\"Please enter how many fibonacci numbers do you want to gererate\\n\")\n",
    "    num = int(num)\n",
    "    \n",
    "    result = []\n",
    "    a, b = 0, 1\n",
    "    while len(result) < num:\n",
    "        result.append(a)\n",
    "        a, b = b, a+b\n",
    "    return result    \n",
    "fib()"
   ]
  },
  {
   "cell_type": "code",
   "execution_count": null,
   "id": "1d111859",
   "metadata": {},
   "outputs": [],
   "source": []
  }
 ],
 "metadata": {
  "kernelspec": {
   "display_name": "Python 3 (ipykernel)",
   "language": "python",
   "name": "python3"
  },
  "language_info": {
   "codemirror_mode": {
    "name": "ipython",
    "version": 3
   },
   "file_extension": ".py",
   "mimetype": "text/x-python",
   "name": "python",
   "nbconvert_exporter": "python",
   "pygments_lexer": "ipython3",
   "version": "3.9.13"
  }
 },
 "nbformat": 4,
 "nbformat_minor": 5
}
