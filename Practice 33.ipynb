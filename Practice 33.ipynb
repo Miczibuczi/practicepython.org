{
 "cells": [
  {
   "cell_type": "code",
   "execution_count": 51,
   "id": "92e1a088",
   "metadata": {},
   "outputs": [],
   "source": [
    "# This exercise is Part 1 of 4 of the birthday data exercise series.\n",
    "# For this exercise, we will keep track of when our friend’s birthdays are, and be able to find that information based on their name. Create a dictionary (in your file) of names and birthdays. When you run your program it should ask the user to enter a name, and return the birthday of that person back to them. The interaction should look something like this:\n",
    "# Welcome to the birthday dictionary. We know the birthdays of:\n",
    "# Albert Einstein\n",
    "# Benjamin Franklin\n",
    "# Ada Lovelace\n",
    "# Who's birthday do you want to look up?\n",
    "# Benjamin Franklin\n",
    "# Benjamin Franklin's birthday is 01/17/1706."
   ]
  },
  {
   "cell_type": "code",
   "execution_count": 52,
   "id": "fe89502c",
   "metadata": {},
   "outputs": [
    {
     "name": "stdout",
     "output_type": "stream",
     "text": [
      "Welcome to the birthday dictionary. We know the birthdays of:\n",
      "Ania\n",
      "dad\n",
      "mom\n",
      "Wiktor\n",
      "Artur\n",
      "Marysia\n",
      "Magda\n",
      "Grzesiek\n",
      "Who's birthday do you want to look up?\n",
      "dad\n",
      "dad's birthday is 2/04/1965\n"
     ]
    }
   ],
   "source": [
    "def dictionary():\n",
    "    birthday_dictionary = {\"Ania\" : \"01/02/2000\", \"dad\" : \"2/04/1965\", \"mom\" : \"15/02/1969\", \"Wiktor\" : \"1/04/1998\", \"Artur\" : \"15/11/XXXX\", \"Marysia\" : \"12/12/1995\", \"Magda\" : \"30/06/1997\", \"Grzesiek\" : \"13/05/1997\"}\n",
    "    print(\"Welcome to the birthday dictionary. We know the birthdays of:\")\n",
    "    for key in birthday_dictionary:\n",
    "        print(key)\n",
    "    user_key = input(\"Who's birthday do you want to look up?\\n\")\n",
    "    \n",
    "    if user_key in birthday_dictionary:\n",
    "        print(user_key + \"'s birthday is\", birthday_dictionary[user_key])\n",
    "    else:\n",
    "        print(\"We don't have birthdays of\", user_key)\n",
    "\n",
    "dictionary()"
   ]
  },
  {
   "cell_type": "code",
   "execution_count": null,
   "id": "4ac737d3",
   "metadata": {},
   "outputs": [],
   "source": []
  }
 ],
 "metadata": {
  "kernelspec": {
   "display_name": "Python 3 (ipykernel)",
   "language": "python",
   "name": "python3"
  },
  "language_info": {
   "codemirror_mode": {
    "name": "ipython",
    "version": 3
   },
   "file_extension": ".py",
   "mimetype": "text/x-python",
   "name": "python",
   "nbconvert_exporter": "python",
   "pygments_lexer": "ipython3",
   "version": "3.9.13"
  }
 },
 "nbformat": 4,
 "nbformat_minor": 5
}
