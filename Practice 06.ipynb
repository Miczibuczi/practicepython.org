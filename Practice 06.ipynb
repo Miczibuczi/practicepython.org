{
 "cells": [
  {
   "cell_type": "code",
   "execution_count": 1,
   "id": "c103e137",
   "metadata": {},
   "outputs": [],
   "source": [
    "# Ask the user for a string and print out whether this string is a palindrome or not. (A palindrome is a string that reads the same forwards and backwards.)"
   ]
  },
  {
   "cell_type": "code",
   "execution_count": 11,
   "id": "bd5732ca",
   "metadata": {},
   "outputs": [
    {
     "name": "stdout",
     "output_type": "stream",
     "text": [
      "Please enter a string\n",
      "coś śoc\n",
      "This string is a palindrome!\n"
     ]
    }
   ],
   "source": [
    "word = str(input(\"Please enter a string\\n\"))\n",
    "backward_word = word [::-1]\n",
    "if word == backward_word:\n",
    "    print(\"This string is a palindrome!\")\n",
    "elif word != backward_word:\n",
    "    print(\"This string is not a palindrome\")\n",
    "else:\n",
    "    print(\"Some error occured\")"
   ]
  },
  {
   "cell_type": "code",
   "execution_count": 12,
   "id": "cc2e4fe0",
   "metadata": {},
   "outputs": [
    {
     "name": "stdout",
     "output_type": "stream",
     "text": [
      "Please enter a string\n",
      "kobyła ma mały bok\n",
      "kob yłam am ałybok\n"
     ]
    }
   ],
   "source": [
    "word = str(input(\"Please enter a string\\n\"))\n",
    "backward_word = word [::-1]\n",
    "\n",
    "print(backward_word)"
   ]
  },
  {
   "cell_type": "code",
   "execution_count": null,
   "id": "3a8c8fc7",
   "metadata": {},
   "outputs": [],
   "source": []
  }
 ],
 "metadata": {
  "kernelspec": {
   "display_name": "Python 3 (ipykernel)",
   "language": "python",
   "name": "python3"
  },
  "language_info": {
   "codemirror_mode": {
    "name": "ipython",
    "version": 3
   },
   "file_extension": ".py",
   "mimetype": "text/x-python",
   "name": "python",
   "nbconvert_exporter": "python",
   "pygments_lexer": "ipython3",
   "version": "3.9.13"
  }
 },
 "nbformat": 4,
 "nbformat_minor": 5
}
