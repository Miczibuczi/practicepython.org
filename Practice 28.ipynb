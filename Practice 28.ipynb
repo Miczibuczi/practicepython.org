{
 "cells": [
  {
   "cell_type": "code",
   "execution_count": null,
   "id": "f980057a",
   "metadata": {},
   "outputs": [],
   "source": [
    "# Implement a function that takes as input three variables, and returns the largest of the three. Do this without using the Python max() function!\n",
    "# The goal of this exercise is to think about some internals that Python normally takes care of for us. All you need is some variables and if statements!"
   ]
  },
  {
   "cell_type": "code",
   "execution_count": 18,
   "id": "fa8440d2",
   "metadata": {},
   "outputs": [],
   "source": [
    "def max_function(x, y, z):\n",
    "    my_list = [x, y, z]\n",
    "    new_list = sorted(my_list)\n",
    "    return new_list[-1]"
   ]
  },
  {
   "cell_type": "code",
   "execution_count": 19,
   "id": "a17c9860",
   "metadata": {},
   "outputs": [
    {
     "data": {
      "text/plain": [
       "134"
      ]
     },
     "execution_count": 19,
     "metadata": {},
     "output_type": "execute_result"
    }
   ],
   "source": [
    "max_function(5, 134, 34)"
   ]
  },
  {
   "cell_type": "code",
   "execution_count": 20,
   "id": "367bb7e8",
   "metadata": {},
   "outputs": [
    {
     "data": {
      "text/plain": [
       "114.2"
      ]
     },
     "execution_count": 20,
     "metadata": {},
     "output_type": "execute_result"
    }
   ],
   "source": [
    "max_function(48.3, 76, 114.2)"
   ]
  },
  {
   "cell_type": "code",
   "execution_count": null,
   "id": "5e3912b9",
   "metadata": {},
   "outputs": [],
   "source": []
  }
 ],
 "metadata": {
  "kernelspec": {
   "display_name": "Python 3 (ipykernel)",
   "language": "python",
   "name": "python3"
  },
  "language_info": {
   "codemirror_mode": {
    "name": "ipython",
    "version": 3
   },
   "file_extension": ".py",
   "mimetype": "text/x-python",
   "name": "python",
   "nbconvert_exporter": "python",
   "pygments_lexer": "ipython3",
   "version": "3.9.13"
  }
 },
 "nbformat": 4,
 "nbformat_minor": 5
}
