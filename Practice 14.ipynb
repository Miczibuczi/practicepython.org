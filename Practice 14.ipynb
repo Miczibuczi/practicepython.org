{
 "cells": [
  {
   "cell_type": "code",
   "execution_count": 1,
   "id": "6418e796",
   "metadata": {},
   "outputs": [],
   "source": [
    "# Write a program (function!) that takes a list and returns a new list that contains all the elements of the first list minus all the duplicates.\n",
    "# Extras:\n",
    "    # Write two different functions to do this - one using a loop and constructing a list, and another using sets."
   ]
  },
  {
   "cell_type": "code",
   "execution_count": 27,
   "id": "a5bb4e92",
   "metadata": {},
   "outputs": [
    {
     "name": "stdout",
     "output_type": "stream",
     "text": [
      "[9, 4, 10, 21, 9, 9, 14, 14, 8, 14, 18, 4, 6, 2, 25, 24, 22, 20, 9, 7] \n",
      "\n",
      "[9, 4, 10, 21, 14, 8, 18, 6, 2, 25, 24, 22, 20, 7]\n"
     ]
    }
   ],
   "source": [
    "import random\n",
    "list = []\n",
    "for i in range (0,20):\n",
    "    list.append(random.randint(1,25))\n",
    "print(list, \"\\n\")\n",
    "\n",
    "def no_duplicates():\n",
    "    b = []\n",
    "    for x in list:\n",
    "        if x not in b:\n",
    "            b.append(x)\n",
    "    print (b)\n",
    "    \n",
    "no_duplicates()"
   ]
  },
  {
   "cell_type": "code",
   "execution_count": 28,
   "id": "406f537e",
   "metadata": {},
   "outputs": [
    {
     "name": "stdout",
     "output_type": "stream",
     "text": [
      "[14, 3, 17, 6, 20, 14, 5, 16, 3, 12, 25, 21, 23, 6, 19, 18, 14, 23, 9, 3] \n",
      "\n",
      "{3, 5, 6, 9, 12, 14, 16, 17, 18, 19, 20, 21, 23, 25}\n"
     ]
    }
   ],
   "source": [
    "import random\n",
    "list = []\n",
    "for i in range (0,20):\n",
    "    list.append(random.randint(1,25))\n",
    "print(list, \"\\n\")\n",
    "\n",
    "def no_duplicates2():\n",
    "    c = set(x for x in list)\n",
    "    print (c)\n",
    "    \n",
    "no_duplicates2()"
   ]
  },
  {
   "cell_type": "code",
   "execution_count": null,
   "id": "7ef8751a",
   "metadata": {},
   "outputs": [],
   "source": []
  }
 ],
 "metadata": {
  "kernelspec": {
   "display_name": "Python 3 (ipykernel)",
   "language": "python",
   "name": "python3"
  },
  "language_info": {
   "codemirror_mode": {
    "name": "ipython",
    "version": 3
   },
   "file_extension": ".py",
   "mimetype": "text/x-python",
   "name": "python",
   "nbconvert_exporter": "python",
   "pygments_lexer": "ipython3",
   "version": "3.9.13"
  }
 },
 "nbformat": 4,
 "nbformat_minor": 5
}
