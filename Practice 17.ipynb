{
 "cells": [
  {
   "cell_type": "code",
   "execution_count": 25,
   "id": "bf1ba811",
   "metadata": {
    "scrolled": true
   },
   "outputs": [],
   "source": [
    "# Use the BeautifulSoup and requests Python packages to print out a list of all the article titles on the New York Times homepage."
   ]
  },
  {
   "cell_type": "code",
   "execution_count": 1,
   "id": "665fe3ae",
   "metadata": {},
   "outputs": [
    {
     "name": "stdout",
     "output_type": "stream",
     "text": [
      "1 Population Falls in China, Heralding a Demographic Crisis\n",
      "2 China’s Economy Stumbled Last Year, With Covid Lockdowns Hobbling Growth\n",
      "3 Renewed Armenia-Azerbaijan Conflict Underlines Russia’s Waning Influence\n",
      "4 Desperate Search of Bombed Ukrainian Building Continues as Death Toll Rises to 40\n",
      "5 Ukraine is making a plea at Davos for financial aid and military equipment.\n",
      "6 A Florida School Received a Threat. Did a Red Flag Law Prevent a Shooting?\n",
      "7 Alarmed by A.I. Plagiarism, Colleges Revamp How They Teach\n",
      "8 ‘A Cautionary Tale’: An Arizona Suburb’s Water Is Cut Off\n",
      "9 White House Says It Does Not Keep Visitor Logs at Biden’s Delaware Home\n",
      "10 As France Moves to Delay Retirement, Older Workers Are in a Quandary\n",
      "11 G.O.P. Ex-Candidate Arrested in Shootings Targeting New Mexico Democrats\n",
      "12 Gina Lollobrigida, Italian Movie Legend, Dies at 95\n",
      "13 ‘Delta 1943, Cancel Takeoff’: The Seconds Before a Close Call at J.F.K.\n",
      "14 In a New ‘Night Court,’ John Larroquette Plays Defense\n",
      "15 He hit rock bottom. Then he tried New York’s housing lottery.\n",
      "16 This is what I learned when I started using Rogaine.\n",
      "17 Will It Be Morning in Joe Biden’s America?\n",
      "18 And Now a Few Words About How Power Makes You Weird\n",
      "19 This Is How Red States Silence Blue Cities. And Democracy.\n",
      "20 As a Finance Professor, I’m Often Asked What I Think About Crypto. Here’s the Answer.\n",
      "21 America’s Must-Win Semiconductor War\n",
      "22 A Revelatory Tour of Martin Luther King Jr.’s Forgotten Teachings\n",
      "23 Learning to Embrace Being Short\n",
      "24 Martin Luther King Jr.’s Last Sunday Sermon Was on the Perils of Not Being Woke\n",
      "25 The Trouble With Paradise\n",
      "26 How ChatGPT Hijacks Democracy\n",
      "27 I Am Michelle Go’s Father. I Am Marking Her Death Where She Lived.\n",
      "28 Harry’s Fractured Fairy Tale\n",
      "29 Europeans, How Is the Energy Crisis Affecting You?\n",
      "30 Three Reasons the Republican Party Keeps Coming Apart at the Seams\n",
      "31 If New York Is So Great, Why Isn’t There Anywhere to Pee?\n",
      "32 Will the U.S. Embassy in Jerusalem Be Built on Confiscated Palestinian Land?\n",
      "33 Mafia Boss Arrested in Italy After Eluding Capture for 30 Years\n",
      "34 The British Aren’t the Only Ones With Royal Drama\n",
      "35 U.S. Asks to Drop Case Accusing N.Y.P.D. Officer of Spying for China\n",
      "36 Cowboys Trounce Buccaneers to Send Home Tom Brady\n",
      "37 ‘A Trunk Filled With Secrets’: Ex-Mexican Official Faces Trial in Brooklyn\n",
      "38 Family of Suspect in Idaho Killings Had ‘No Concerns’\n",
      "39 Six Shot Dead, Including Mother and Baby, at California Home\n",
      "40 Frank Thomas, Power-Hitting Original Mets Player, Dies at 93\n",
      "41 A Second Colorado Library Closes Because of Meth Contamination\n",
      "42 Former Afghan Lawmaker Shot Dead at Her Home in Kabul\n",
      "43 Read the Cooking Newsletter\n",
      "44 Judge John Hodgman Weighs In\n",
      "45 ‘I Paused in the Doorway’\n",
      "46 In What Language Do You Express Love?\n",
      "47 What to Know About Night Sweats\n",
      "48 How I Hold It Together\n",
      "49 The Healing Power of Strength Training\n",
      "50 3 Scandinavian Secrets to Resilience\n",
      "51 What I Learned When My Sister Got Sick\n",
      "52 For Director Alice Diop, Only Fiction Could Do Justice to a Tragedy\n",
      "53 As ‘A Strange Loop’ Ends, Its Creator Looks Back\n",
      "54 The Chippendale Tries to Lure Workers With Amenities\n",
      "55 Caring for Boston’s ‘Rough Sleepers’\n",
      "56 Review: Romeo and Juliet Leap to 1960s Hong Kong\n",
      "57 Why Mykhailo Mudryk Joined Chelsea and Not Arsenal\n",
      "58 Expansion Is the Next Seismic Shift in M.L.B., and Nashville Wants In\n",
      "59 How a Group of Message-Board Misfits Revolutionized Baseball\n",
      "60 Is There a Trade for LeBron James This Summer That Makes Sense? It’s Possible.\n",
      "61 The Anatomy of the Bengals’ ‘Unbelievable’ N.F.L. Playoff Moment\n",
      "62 Quarterback Lamar Jackson’s Future in Baltimore Is Increasingly a Mystery\n"
     ]
    }
   ],
   "source": [
    "import requests\n",
    "r = requests.get('https://www.nytimes.com/')\n",
    "my_data = r.text\n",
    "\n",
    "from bs4 import BeautifulSoup\n",
    "soup = BeautifulSoup(my_data)\n",
    "\n",
    "\n",
    "article_list = []\n",
    "for title in soup.find_all('h3', {'class': 'indicate-hover'}):\n",
    "    article_list.append(title.text.strip())\n",
    "\n",
    "article_list.remove(\"Wordle\")\n",
    "article_list.remove(\"The Best First Wordle Words\")\n",
    "article_list.remove(\"Spelling Bee\")\n",
    "article_list.remove(\"The Crossword\")\n",
    "article_list.remove(\"Letter Boxed\")\n",
    "article_list.remove(\"Tiles\")\n",
    "\n",
    "a=1\n",
    "for x in article_list:\n",
    "    print(a, x)\n",
    "    a += 1"
   ]
  },
  {
   "cell_type": "code",
   "execution_count": null,
   "id": "3dc1cbcd",
   "metadata": {},
   "outputs": [],
   "source": []
  }
 ],
 "metadata": {
  "kernelspec": {
   "display_name": "Python 3 (ipykernel)",
   "language": "python",
   "name": "python3"
  },
  "language_info": {
   "codemirror_mode": {
    "name": "ipython",
    "version": 3
   },
   "file_extension": ".py",
   "mimetype": "text/x-python",
   "name": "python",
   "nbconvert_exporter": "python",
   "pygments_lexer": "ipython3",
   "version": "3.9.13"
  }
 },
 "nbformat": 4,
 "nbformat_minor": 5
}
