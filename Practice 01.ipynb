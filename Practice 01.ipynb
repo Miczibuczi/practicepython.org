{
 "cells": [
  {
   "cell_type": "code",
   "execution_count": null,
   "id": "b9217140",
   "metadata": {},
   "outputs": [],
   "source": [
    "# Zadania ze strony https://www.practicepython.org/\n",
    "\n",
    "# Create a program that asks the user to enter their name and their age. Print out a message addressed to them that tells them the year that they will turn 100 years old. Note: for this exercise, the expectation is that you explicitly write out the year (and therefore be out of date the next year). If you want to do this in a generic way, see exercise 39.\n",
    "# Extras:\n",
    "    # Add on to the previous program by asking the user for another number and printing out that many copies of the previous message.\n",
    "    # Print out that many copies of the previous message on separate lines."
   ]
  },
  {
   "cell_type": "code",
   "execution_count": 18,
   "id": "87c75744",
   "metadata": {},
   "outputs": [
    {
     "name": "stdout",
     "output_type": "stream",
     "text": [
      "What's your name?\n",
      "Marcin\n",
      "How old are you?\n",
      "25\n",
      "Enter another number\n",
      "15\n",
      "Marcin you will be 100 years old in 2098\n",
      "Marcin you will be 100 years old in 2098\n",
      "Marcin you will be 100 years old in 2098\n",
      "Marcin you will be 100 years old in 2098\n",
      "Marcin you will be 100 years old in 2098\n",
      "Marcin you will be 100 years old in 2098\n",
      "Marcin you will be 100 years old in 2098\n",
      "Marcin you will be 100 years old in 2098\n",
      "Marcin you will be 100 years old in 2098\n",
      "Marcin you will be 100 years old in 2098\n",
      "Marcin you will be 100 years old in 2098\n",
      "Marcin you will be 100 years old in 2098\n",
      "Marcin you will be 100 years old in 2098\n",
      "Marcin you will be 100 years old in 2098\n",
      "Marcin you will be 100 years old in 2098\n"
     ]
    }
   ],
   "source": [
    "name = str(input(\"What's your name?\\n\"))\n",
    "age = int(input(\"How old are you?\\n\"))\n",
    "number = int(input(\"Enter another number\\n\"))\n",
    "for x in range(0, number):\n",
    "    print(name, \"you will be 100 years old in\", 2023+100-age)"
   ]
  },
  {
   "cell_type": "code",
   "execution_count": 22,
   "id": "55929571",
   "metadata": {},
   "outputs": [
    {
     "name": "stdout",
     "output_type": "stream",
     "text": [
      "test\n",
      "test\n",
      "test\n",
      "test\n",
      "test\n",
      "test\n",
      "test\n",
      "test\n",
      "test\n",
      "test\n",
      "test\n",
      "test\n",
      "test\n",
      "test\n",
      "test\n",
      "\n"
     ]
    }
   ],
   "source": [
    "print(number*\"test\\n\")"
   ]
  }
 ],
 "metadata": {
  "kernelspec": {
   "display_name": "Python 3 (ipykernel)",
   "language": "python",
   "name": "python3"
  },
  "language_info": {
   "codemirror_mode": {
    "name": "ipython",
    "version": 3
   },
   "file_extension": ".py",
   "mimetype": "text/x-python",
   "name": "python",
   "nbconvert_exporter": "python",
   "pygments_lexer": "ipython3",
   "version": "3.9.13"
  }
 },
 "nbformat": 4,
 "nbformat_minor": 5
}
