{
 "cells": [
  {
   "cell_type": "code",
   "execution_count": null,
   "id": "9c7126f3",
   "metadata": {},
   "outputs": [],
   "source": [
    "# Ask the user for a number. Depending on whether the number is even or odd, print out an appropriate message to the user.\n",
    "# Extras:\n",
    "\n",
    "    # If the number is a multiple of 4, print out a different message.\n",
    "    # Ask the user for two numbers: one number to check (call it num) and one number to divide by (check). If check divides evenly into num, tell that to the user. If not, print a different appropriate message."
   ]
  },
  {
   "cell_type": "code",
   "execution_count": 28,
   "id": "4e35583c",
   "metadata": {},
   "outputs": [
    {
     "name": "stdout",
     "output_type": "stream",
     "text": [
      "Enter a number\n",
      "16\n",
      "This intiger is divisible by 4, so it's also an even number\n"
     ]
    }
   ],
   "source": [
    "def function():\n",
    "    try:\n",
    "        number = int(input(\"Enter a number\\n\"))\n",
    "        if number % 4 == 0:\n",
    "            print(\"This intiger is divisible by 4, so it's also an even number\")\n",
    "        elif number % 2 == 0:\n",
    "            print(\"It's an even number\")\n",
    "        elif number % 2 == 1:\n",
    "            print(\"It's an odd number\")\n",
    "        else:\n",
    "            print(\"Some error occured\")\n",
    "    except ValueError:\n",
    "        function()\n",
    "\n",
    "function()"
   ]
  },
  {
   "cell_type": "code",
   "execution_count": 30,
   "id": "e7dff633",
   "metadata": {},
   "outputs": [
    {
     "name": "stdout",
     "output_type": "stream",
     "text": [
      "Please enter a number\n",
      "14\n",
      "Please enter a divider5\n",
      "5 is not a factor of 14\n"
     ]
    }
   ],
   "source": [
    "num = int(input(\"Please enter a number\\n\"))\n",
    "divider = int(input(\"Please enter a divider\"))\n",
    "if num % divider == 0:\n",
    "    print(divider,\"is a factor of\", num)\n",
    "elif num % divider != 0:\n",
    "    print(divider,\"is not a factor of\", num)\n",
    "else:\n",
    "    print(\"Some error occured\")"
   ]
  }
 ],
 "metadata": {
  "kernelspec": {
   "display_name": "Python 3 (ipykernel)",
   "language": "python",
   "name": "python3"
  },
  "language_info": {
   "codemirror_mode": {
    "name": "ipython",
    "version": 3
   },
   "file_extension": ".py",
   "mimetype": "text/x-python",
   "name": "python",
   "nbconvert_exporter": "python",
   "pygments_lexer": "ipython3",
   "version": "3.9.13"
  }
 },
 "nbformat": 4,
 "nbformat_minor": 5
}
