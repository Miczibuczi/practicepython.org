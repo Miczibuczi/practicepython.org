{
 "cells": [
  {
   "cell_type": "code",
   "execution_count": 1,
   "id": "9c0f59e3",
   "metadata": {},
   "outputs": [],
   "source": [
    "# In a previous exercise, we’ve written a program that “knows” a number and asks a user to guess it.\n",
    "# This time, we’re going to do exactly the opposite. You, the user, will have in your head a number between 0 and 100. The program will guess a number, and you, the user, will say whether it is too high, too low, or your number.\n",
    "# At the end of this exchange, your program should print out how many guesses it took to get your number.\n",
    "# As the writer of this program, you will have to choose how your program will strategically guess. A naive strategy can be to simply start the guessing at 1, and keep going (2, 3, 4, etc.) until you hit the number. But that’s not an optimal guessing strategy. An alternate strategy might be to guess 50 (right in the middle of the range), and then increase / decrease by 1 as needed. After you’ve written the program, try to find the optimal strategy!"
   ]
  },
  {
   "cell_type": "code",
   "execution_count": 20,
   "id": "2df06415",
   "metadata": {},
   "outputs": [
    {
     "name": "stdout",
     "output_type": "stream",
     "text": [
      "Think of a number between 0 and 100, then press enter\n",
      "higher\n",
      "Is this number 50? Write \"yes\" if the guess is corect. Otherwise write \"higher\" or \"lower\" depending on whether you number was higher or lower\n",
      "higher\n",
      "Is this number 75? Write \"yes\" if the guess is corect. Otherwise write \"higher\" or \"lower\" depending on whether you number was higher or lower\n",
      "higher\n",
      "Is this number 88? Write \"yes\" if the guess is corect. Otherwise write \"higher\" or \"lower\" depending on whether you number was higher or lower\n",
      "enfwneifne\n",
      "Please write \"yes\", \"higher\" or \"lower\"eafneaf\n",
      "Please write \"yes\", \"higher\" or \"lower\"gdsb\n",
      "Please write \"yes\", \"higher\" or \"lower\"higher\n",
      "Is this number 94? Write \"yes\" if the guess is corect. Otherwise write \"higher\" or \"lower\" depending on whether you number was higher or lower\n",
      "higher\n",
      "Is this number 97? Write \"yes\" if the guess is corect. Otherwise write \"higher\" or \"lower\" depending on whether you number was higher or lower\n",
      "higher\n",
      "Is this number 99? Write \"yes\" if the guess is corect. Otherwise write \"higher\" or \"lower\" depending on whether you number was higher or lower\n",
      "higher\n",
      "Then this number is 100. I won. Number of guesses taken: 7.\n"
     ]
    }
   ],
   "source": [
    "input(\"Think of a number between 0 and 100, then press enter\\n\")\n",
    "number = 50\n",
    "min_number = 0\n",
    "max_number = 100\n",
    "answer = input('Is this number {}? Write \"yes\" if the guess is corect. Otherwise write \"higher\" or \"lower\" depending on whether you number was higher or lower\\n'.format(number))\n",
    "tries = 1\n",
    "while True:         \n",
    "    if answer.lower() == \"yes\":\n",
    "        print(\"I won. Number of guesses taken:\", tries)\n",
    "        break\n",
    "    elif answer.lower() == \"higher\":\n",
    "        tries += 1\n",
    "        min_number = number+1\n",
    "        number = (min_number + max_number) // 2\n",
    "    elif answer.lower() == \"lower\":\n",
    "        tries += 1\n",
    "        max_number = number-1\n",
    "        number = (min_number + max_number) // 2\n",
    "    else:\n",
    "        answer = input('Please write \"yes\", \"higher\" or \"lower\"')\n",
    "        continue\n",
    "    if min_number == max_number:\n",
    "        print(\"Then this number is {}. I won. Number of guesses taken: {}.\".format(min_number, tries))\n",
    "        break\n",
    "    else:\n",
    "        answer = input('Is this number {}? Write \"yes\" if the guess is corect. Otherwise write \"higher\" or \"lower\" depending on whether you number was higher or lower\\n'.format(number))"
   ]
  },
  {
   "cell_type": "code",
   "execution_count": null,
   "id": "f415e16b",
   "metadata": {},
   "outputs": [],
   "source": []
  }
 ],
 "metadata": {
  "kernelspec": {
   "display_name": "Python 3 (ipykernel)",
   "language": "python",
   "name": "python3"
  },
  "language_info": {
   "codemirror_mode": {
    "name": "ipython",
    "version": 3
   },
   "file_extension": ".py",
   "mimetype": "text/x-python",
   "name": "python",
   "nbconvert_exporter": "python",
   "pygments_lexer": "ipython3",
   "version": "3.9.13"
  }
 },
 "nbformat": 4,
 "nbformat_minor": 5
}
