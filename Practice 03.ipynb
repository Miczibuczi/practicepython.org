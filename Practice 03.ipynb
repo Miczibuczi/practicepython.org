{
 "cells": [
  {
   "cell_type": "code",
   "execution_count": null,
   "id": "29e96e4e",
   "metadata": {},
   "outputs": [],
   "source": [
    "# Take a list, say for example this one:\n",
    "\n",
    "  # a = [1, 1, 2, 3, 5, 8, 13, 21, 34, 55, 89]\n",
    "\n",
    "# and write a program that prints out all the elements of the list that are less than 5.\n",
    "\n",
    "# Extras:\n",
    "\n",
    "    # Instead of printing the elements one by one, make a new list that has all the elements less than 5 from this list in it and print out this new list.\n",
    "    # Write this in one line of Python.\n",
    "    # Ask the user for a number and return a list that contains only elements from the original list a that are smaller than that number given by the user."
   ]
  },
  {
   "cell_type": "code",
   "execution_count": 19,
   "id": "33b2cdb9",
   "metadata": {},
   "outputs": [
    {
     "name": "stdout",
     "output_type": "stream",
     "text": [
      "1\n",
      "1\n",
      "2\n",
      "3\n"
     ]
    }
   ],
   "source": [
    "a = [1, 1, 2, 3, 5, 8, 13, 21, 34, 55, 89]\n",
    "\n",
    "for x in a:\n",
    "    if x < 5:\n",
    "        print(x)"
   ]
  },
  {
   "cell_type": "code",
   "execution_count": 20,
   "id": "d0ac0ba6",
   "metadata": {},
   "outputs": [
    {
     "name": "stdout",
     "output_type": "stream",
     "text": [
      "[1, 1, 2, 3]\n"
     ]
    }
   ],
   "source": [
    "a = [1, 1, 2, 3, 5, 8, 13, 21, 34, 55, 89]\n",
    "\n",
    "b = []\n",
    "for x in a:\n",
    "    if x < 5:\n",
    "        b.append(x)\n",
    "print (b)"
   ]
  },
  {
   "cell_type": "code",
   "execution_count": 21,
   "id": "e83dc9d3",
   "metadata": {},
   "outputs": [
    {
     "name": "stdout",
     "output_type": "stream",
     "text": [
      "[1, 1, 2, 3]\n"
     ]
    }
   ],
   "source": [
    "a = [1, 1, 2, 3, 5, 8, 13, 21, 34, 55, 89]\n",
    "\n",
    "print ([x for x in a if x < 5])"
   ]
  },
  {
   "cell_type": "code",
   "execution_count": 28,
   "id": "86ed9037",
   "metadata": {},
   "outputs": [
    {
     "name": "stdout",
     "output_type": "stream",
     "text": [
      "Please enter a number\n",
      "15\n",
      "[1, 1, 2, 3, 5, 8, 13]\n",
      "Please enter a number\n",
      "12\n",
      "[1, 1, 2, 3, 5, 8]\n"
     ]
    }
   ],
   "source": [
    "a = [1, 1, 2, 3, 5, 8, 13, 21, 34, 55, 89]\n",
    "\n",
    "b = []\n",
    "num = int(input(\"Please enter a number\\n\"))\n",
    "for x in a:\n",
    "    if x < num:\n",
    "        b.append(x)\n",
    "print(b)\n",
    "\n",
    "\n",
    "#now the same but with less lines of code\n",
    "a = [1, 1, 2, 3, 5, 8, 13, 21, 34, 55, 89]\n",
    "\n",
    "num = int(input(\"Please enter a number\\n\"))\n",
    "print ([number for number in a if number < num])"
   ]
  }
 ],
 "metadata": {
  "kernelspec": {
   "display_name": "Python 3 (ipykernel)",
   "language": "python",
   "name": "python3"
  },
  "language_info": {
   "codemirror_mode": {
    "name": "ipython",
    "version": 3
   },
   "file_extension": ".py",
   "mimetype": "text/x-python",
   "name": "python",
   "nbconvert_exporter": "python",
   "pygments_lexer": "ipython3",
   "version": "3.9.13"
  }
 },
 "nbformat": 4,
 "nbformat_minor": 5
}
