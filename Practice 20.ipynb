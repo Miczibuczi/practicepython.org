{
 "cells": [
  {
   "cell_type": "code",
   "execution_count": null,
   "id": "77560a12",
   "metadata": {},
   "outputs": [],
   "source": [
    "# Write a function that takes an ordered list of numbers (a list where the elements are in order from smallest to largest) and another number. The function decides whether or not the given number is inside the list and returns (then prints) an appropriate boolean.\n",
    "# Extras:\n",
    "    # Use binary search."
   ]
  },
  {
   "cell_type": "code",
   "execution_count": 22,
   "id": "f00ae394",
   "metadata": {},
   "outputs": [
    {
     "data": {
      "text/plain": [
       "True"
      ]
     },
     "execution_count": 22,
     "metadata": {},
     "output_type": "execute_result"
    }
   ],
   "source": [
    "import random\n",
    "list = random.sample(range(1, 100), k=50)\n",
    "sorted_list = sorted(list)\n",
    "number = random.randint(1, 100)\n",
    "\n",
    "number in list"
   ]
  },
  {
   "cell_type": "code",
   "execution_count": 23,
   "id": "86a825f8",
   "metadata": {},
   "outputs": [
    {
     "name": "stdout",
     "output_type": "stream",
     "text": [
      "67\n",
      "[1, 2, 3, 4, 5, 7, 10, 12, 13, 14, 15, 16, 18, 20, 21, 23, 24, 28, 31, 33, 36, 42, 44, 46, 47, 49, 53, 58, 59, 62, 63, 64, 65, 66, 67, 69, 74, 76, 80, 82, 83, 84, 85, 86, 87, 88, 89, 96, 97, 98] "
     ]
    }
   ],
   "source": [
    "# To check if the answer is proper\n",
    "print(number)\n",
    "print(sorted_list, end = \" \")"
   ]
  },
  {
   "cell_type": "code",
   "execution_count": 24,
   "id": "a14f36d5",
   "metadata": {},
   "outputs": [
    {
     "name": "stdout",
     "output_type": "stream",
     "text": [
      "False\n"
     ]
    }
   ],
   "source": [
    "# Binary search\n",
    "import random\n",
    "list = random.sample(range(1, 100), k=50)\n",
    "sorted_list = sorted(list)\n",
    "number = random.randint(1, 100)\n",
    "new_sorted_list = sorted_list\n",
    "\n",
    "def check_middle_number():\n",
    "    global new_sorted_list\n",
    "    index = len(new_sorted_list)//2\n",
    "    middle_number = new_sorted_list[index]\n",
    "    if len(new_sorted_list) == 1:\n",
    "        if middle_number == number:\n",
    "            print(True)\n",
    "        else:\n",
    "            print(False)\n",
    "    elif len(new_sorted_list) > 1:\n",
    "        if middle_number == number:\n",
    "            print(True)\n",
    "        elif middle_number > number:\n",
    "            new_sorted_list = new_sorted_list[:len(new_sorted_list)//2]\n",
    "            check_middle_number()\n",
    "        elif middle_number < number:\n",
    "            new_sorted_list = new_sorted_list[((len(new_sorted_list))+1)//2:]\n",
    "            check_middle_number()\n",
    "        else:\n",
    "            print(Error01)\n",
    "    else:\n",
    "        print(Error02)\n",
    "        \n",
    "check_middle_number()"
   ]
  },
  {
   "cell_type": "code",
   "execution_count": 25,
   "id": "4b131977",
   "metadata": {},
   "outputs": [
    {
     "name": "stdout",
     "output_type": "stream",
     "text": [
      "49\n",
      "[2, 5, 10, 14, 15, 19, 20, 22, 25, 26, 29, 31, 32, 36, 37, 38, 41, 42, 45, 46, 48, 50, 53, 54, 55, 56, 60, 61, 62, 64, 65, 67, 69, 71, 72, 73, 74, 76, 77, 79, 80, 81, 82, 84, 86, 89, 90, 92, 93, 97] "
     ]
    }
   ],
   "source": [
    "# Check binary search\n",
    "print(number)\n",
    "print(sorted_list, end = \" \")"
   ]
  },
  {
   "cell_type": "code",
   "execution_count": null,
   "id": "105763f1",
   "metadata": {},
   "outputs": [],
   "source": []
  }
 ],
 "metadata": {
  "kernelspec": {
   "display_name": "Python 3 (ipykernel)",
   "language": "python",
   "name": "python3"
  },
  "language_info": {
   "codemirror_mode": {
    "name": "ipython",
    "version": 3
   },
   "file_extension": ".py",
   "mimetype": "text/x-python",
   "name": "python",
   "nbconvert_exporter": "python",
   "pygments_lexer": "ipython3",
   "version": "3.9.13"
  }
 },
 "nbformat": 4,
 "nbformat_minor": 5
}
