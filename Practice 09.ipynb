{
 "cells": [
  {
   "cell_type": "code",
   "execution_count": 1,
   "id": "16c31872",
   "metadata": {},
   "outputs": [],
   "source": [
    "# Generate a random number between 1 and 9 (including 1 and 9). Ask the user to guess the number, then tell them whether they guessed too low, too high, or exactly right.\n",
    "# Extras:\n",
    "    # Keep the game going until the user types “exit”\n",
    "    # Keep track of how many guesses the user has taken, and when the game ends, print this out."
   ]
  },
  {
   "cell_type": "code",
   "execution_count": 20,
   "id": "56c8cbfd",
   "metadata": {},
   "outputs": [
    {
     "name": "stdout",
     "output_type": "stream",
     "text": [
      "We generated a number from 1 to 9. Try to guess which number it is.\n",
      "5\n",
      "Your guess was to low, please try again\n",
      "8\n",
      "Your guess was to high, please try again\n",
      "7\n",
      "That's it, you won! Number of quesses taken: 3 \n",
      "Play again or write \"exit\" to stop the game\n",
      "6\n",
      "Your guess was to high, please try again\n",
      "exit\n"
     ]
    }
   ],
   "source": [
    "import random\n",
    "import re\n",
    "\n",
    "def guessing_game():\n",
    "    count = 1\n",
    "    x = random.randint(1,9)\n",
    "    y = input(\"We generated a number from 1 to 9. Try to guess which number it is.\\n\")\n",
    "    while y != \"exit\":\n",
    "        if re.search (\"\\D\",y):\n",
    "            print('Please enter a number from 1 to 9 or write \"exit\" to quit the game')\n",
    "            y = input()\n",
    "        elif int(y) == x:\n",
    "            print('That\\'s it, you won! Number of quesses taken:', count, '\\nPlay again or write \"exit\" to stop the game')\n",
    "            count = 1\n",
    "            x = random.randint(1,9)\n",
    "            y = input()\n",
    "        elif int(y) > x:\n",
    "            print(\"Your guess was to high, please try again\")\n",
    "            count += 1\n",
    "            y = input()\n",
    "        elif int(y) < x:\n",
    "            print(\"Your guess was to low, please try again\")\n",
    "            count += 1\n",
    "            y = input()\n",
    "\n",
    "guessing_game()"
   ]
  },
  {
   "cell_type": "code",
   "execution_count": null,
   "id": "4ce70232",
   "metadata": {},
   "outputs": [],
   "source": []
  }
 ],
 "metadata": {
  "kernelspec": {
   "display_name": "Python 3 (ipykernel)",
   "language": "python",
   "name": "python3"
  },
  "language_info": {
   "codemirror_mode": {
    "name": "ipython",
    "version": 3
   },
   "file_extension": ".py",
   "mimetype": "text/x-python",
   "name": "python",
   "nbconvert_exporter": "python",
   "pygments_lexer": "ipython3",
   "version": "3.9.13"
  }
 },
 "nbformat": 4,
 "nbformat_minor": 5
}
