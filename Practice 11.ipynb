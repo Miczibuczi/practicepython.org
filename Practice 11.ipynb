{
 "cells": [
  {
   "cell_type": "code",
   "execution_count": 8,
   "id": "29847060",
   "metadata": {},
   "outputs": [],
   "source": [
    "# Ask the user for a number and determine whether the number is prime or not."
   ]
  },
  {
   "cell_type": "code",
   "execution_count": 47,
   "id": "b5d68f11",
   "metadata": {},
   "outputs": [
    {
     "name": "stdout",
     "output_type": "stream",
     "text": [
      "Please enter an intiger\n",
      "fdbf\n",
      "Please enter an intiger\n",
      "sdvsv\n",
      "Please enter an intiger\n",
      "17\n",
      "It's a prime number\n"
     ]
    }
   ],
   "source": [
    "import re\n",
    "num = \"empty\"\n",
    "\n",
    "while re.search (\"\\D\",str(num)):\n",
    "    num = input(\"Please enter an intiger\\n\")\n",
    "num = int(num)\n",
    "\n",
    "a=0\n",
    "for x in range (2, num):\n",
    "    if num % x != 0:\n",
    "        a += 1\n",
    "    else:\n",
    "        continue\n",
    "\n",
    "if a+2 == num:\n",
    "    print(\"It's a prime number\")\n",
    "else:\n",
    "    print(\"It's not a prime number\")"
   ]
  },
  {
   "cell_type": "code",
   "execution_count": null,
   "id": "1d9fbb1d",
   "metadata": {},
   "outputs": [],
   "source": []
  }
 ],
 "metadata": {
  "kernelspec": {
   "display_name": "Python 3 (ipykernel)",
   "language": "python",
   "name": "python3"
  },
  "language_info": {
   "codemirror_mode": {
    "name": "ipython",
    "version": 3
   },
   "file_extension": ".py",
   "mimetype": "text/x-python",
   "name": "python",
   "nbconvert_exporter": "python",
   "pygments_lexer": "ipython3",
   "version": "3.9.13"
  }
 },
 "nbformat": 4,
 "nbformat_minor": 5
}
