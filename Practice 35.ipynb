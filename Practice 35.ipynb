{
 "cells": [
  {
   "cell_type": "code",
   "execution_count": 1,
   "id": "9086fa5c",
   "metadata": {},
   "outputs": [],
   "source": [
    "# This exercise is Part 3 of 4 of the birthday data exercise series.\n",
    "# In the previous exercise we saved information about names and birthdays to disk. In this exercise, load that JSON file from disk, extract the months of all the birthdays, and count how many people have a birthday in each month.\n",
    "\n",
    "# Your program should output something like:\n",
    "\n",
    "# {\n",
    "#  \"May\": 3,\n",
    "#  \"November\": 2,\n",
    "#  \"December\": 1\n",
    "# }"
   ]
  },
  {
   "cell_type": "code",
   "execution_count": 44,
   "id": "9b202667",
   "metadata": {},
   "outputs": [
    {
     "name": "stdout",
     "output_type": "stream",
     "text": [
      "February : 2\n",
      "April : 2\n",
      "May : 1\n",
      "June : 1\n",
      "November : 1\n",
      "December : 1\n"
     ]
    }
   ],
   "source": [
    "import json\n",
    "with open (\"34_practice.json\", \"r\") as f:\n",
    "    my_dictionary = json.load(f)\n",
    "\n",
    "list_of_dates = [value for value in my_dictionary.values()]\n",
    "list_of_months = []\n",
    "for date in list_of_dates:\n",
    "    x = date.split(\"/\")\n",
    "    list_of_months.append(x[1])\n",
    "\n",
    "months = {    \n",
    "\"January\" : 0,\n",
    "\"February\" : 0,\n",
    "\"March\" : 0,\n",
    "\"April\" : 0,\n",
    "\"May\" : 0,\n",
    "\"June\" : 0,\n",
    "\"July\" : 0,\n",
    "\"August\" : 0,\n",
    "\"September\" : 0,\n",
    "\"October\" : 0,\n",
    "\"November\" : 0,\n",
    "\"December\" : 0}\n",
    "\n",
    "for month in list_of_months:\n",
    "    if month == \"01\":\n",
    "        months[\"January\"] += 1\n",
    "    elif month == \"02\":\n",
    "        months[\"February\"] += 1\n",
    "    elif month == \"03\":\n",
    "        months[\"March\"] += 1\n",
    "    elif month == \"04\":\n",
    "        months[\"April\"] += 1\n",
    "    elif month == \"05\":\n",
    "        months[\"May\"] += 1\n",
    "    elif month == \"06\":\n",
    "        months[\"June\"] += 1\n",
    "    elif month == \"07\":\n",
    "        months[\"July\"] += 1\n",
    "    elif month == \"08\":\n",
    "        months[\"August\"] += 1\n",
    "    elif month == \"09\":\n",
    "        months[\"September\"] += 1\n",
    "    elif month == \"10\":\n",
    "        months[\"October\"] += 1\n",
    "    elif month == \"11\":\n",
    "        months[\"November\"] += 1\n",
    "    elif month == \"12\":\n",
    "        months[\"December\"] +=1\n",
    "    else:\n",
    "        print(\"Error01\")\n",
    "\n",
    "keys = [x for x in months.keys()]\n",
    "for key in keys:\n",
    "    if months[key] == 0:\n",
    "        del months[key]\n",
    "        \n",
    "for key in months:\n",
    "    print (\"{} : {}\".format(key, months[key]))"
   ]
  },
  {
   "cell_type": "code",
   "execution_count": null,
   "id": "b303a101",
   "metadata": {},
   "outputs": [],
   "source": []
  }
 ],
 "metadata": {
  "kernelspec": {
   "display_name": "Python 3 (ipykernel)",
   "language": "python",
   "name": "python3"
  },
  "language_info": {
   "codemirror_mode": {
    "name": "ipython",
    "version": 3
   },
   "file_extension": ".py",
   "mimetype": "text/x-python",
   "name": "python",
   "nbconvert_exporter": "python",
   "pygments_lexer": "ipython3",
   "version": "3.9.13"
  }
 },
 "nbformat": 4,
 "nbformat_minor": 5
}
