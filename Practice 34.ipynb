{
 "cells": [
  {
   "cell_type": "code",
   "execution_count": 1,
   "id": "4e9f1557",
   "metadata": {},
   "outputs": [],
   "source": [
    "# This exercise is Part 2 of 4 of the birthday data exercise series.\n",
    "# In the previous exercise we created a dictionary of birthdays. In this exercise, modify your program from Part 1 to load the birthday dictionary from a JSON file on disk, rather than having the dictionary defined in the program.\n",
    "# Bonus: Ask the user for another name and birthday to add to the dictionary, and update the JSON file you have on disk with the name. If you run the program multiple times and keep adding new names, your JSON file should keep getting bigger and bigger."
   ]
  },
  {
   "cell_type": "code",
   "execution_count": 24,
   "id": "1627c0eb",
   "metadata": {},
   "outputs": [],
   "source": [
    "# create a file on your computer\n",
    "import json\n",
    "\n",
    "birthday_dictionary = {\"Ania\" : \"1/02/2000\",\n",
    "                       \"dad\" : \"2/04/1965\",\n",
    "                       \"mom\" : \"15/02/1969\",\n",
    "                       \"Wiktor\" : \"1/04/1998\",\n",
    "                       \"Artur\" : \"15/11/XXXX\",\n",
    "                       \"Marysia\" : \"12/12/1995\",\n",
    "                       \"Magda\" : \"30/06/1997\",\n",
    "                       \"Grzesiek\" : \"13/05/1997\"}\n",
    "\n",
    "with open(\"34_practice.json\", \"w\") as file:\n",
    "    json.dump(birthday_dictionary, file)"
   ]
  },
  {
   "cell_type": "code",
   "execution_count": 25,
   "id": "64584ecf",
   "metadata": {},
   "outputs": [
    {
     "name": "stdout",
     "output_type": "stream",
     "text": [
      "Welcome to the birthday dictionary. We know the birthdays of:\n",
      "Ania\n",
      "dad\n",
      "mom\n",
      "Wiktor\n",
      "Artur\n",
      "Marysia\n",
      "Magda\n",
      "Grzesiek\n",
      "Who's birthday do you want to look up?\n",
      "Marcin\n",
      "We don't have birthdays of Marcin\n",
      "Do you want to add somebody's birthday? Write \"yes\" or \"no\":\n",
      "no\n"
     ]
    }
   ],
   "source": [
    "# Practice 34 answer\n",
    "import json\n",
    "def dictionary():\n",
    "    add_new = \"\"\n",
    "    with open (\"34_practice.json\", \"r\") as f:\n",
    "        my_dictionary = json.load(f)\n",
    "    print(\"Welcome to the birthday dictionary. We know the birthdays of:\")\n",
    "    for key in my_dictionary:\n",
    "        print(key)\n",
    "    user_key = input(\"Who's birthday do you want to look up?\\n\")\n",
    "    \n",
    "    if user_key in my_dictionary:\n",
    "        print(user_key + \"'s birthday is\", my_dictionary[user_key])\n",
    "    else:\n",
    "        print(\"We don't have birthdays of\", user_key)\n",
    "    while add_new.lower() != \"yes\" and add_new.lower() != \"no\":\n",
    "        add_new = input('Do you want to add somebody\\'s birthday? Write \"yes\" or \"no\":\\n')\n",
    "    if add_new.lower() == \"yes\":\n",
    "        new_key = input(\"Please enter the name of the person you want to add to the database:\\n\")\n",
    "        new_value = input(\"Please enter the birthday date of {}\\nUse the notation DD/MM/RRRR or D/MM/RRRR\\n\".format(new_key))\n",
    "        my_dictionary[new_key] = new_value\n",
    "    with open (\"34_practice.json\", \"w\") as file:\n",
    "        json.dump(my_dictionary, file)\n",
    "\n",
    "dictionary()"
   ]
  }
 ],
 "metadata": {
  "kernelspec": {
   "display_name": "Python 3 (ipykernel)",
   "language": "python",
   "name": "python3"
  },
  "language_info": {
   "codemirror_mode": {
    "name": "ipython",
    "version": 3
   },
   "file_extension": ".py",
   "mimetype": "text/x-python",
   "name": "python",
   "nbconvert_exporter": "python",
   "pygments_lexer": "ipython3",
   "version": "3.9.13"
  }
 },
 "nbformat": 4,
 "nbformat_minor": 5
}
