{
 "cells": [
  {
   "cell_type": "code",
   "execution_count": null,
   "id": "874700fd",
   "metadata": {},
   "outputs": [],
   "source": [
    "# Implement the same exercise as Exercise 1 (Create a program that asks the user to enter their name and their age. Print out a message addressed to them that tells them the year that they will turn 100 years old), except use f-strings instead of the + operator to print the resulting output message."
   ]
  },
  {
   "cell_type": "code",
   "execution_count": 1,
   "id": "bee4aef0",
   "metadata": {},
   "outputs": [
    {
     "name": "stdout",
     "output_type": "stream",
     "text": [
      "What's your name?\n",
      "Marcin\n",
      "How old are you?\n",
      "25\n",
      "Marcin you will be 100 years old in2098\n"
     ]
    }
   ],
   "source": [
    "name = str(input(\"What's your name?\\n\"))\n",
    "age = int(input(\"How old are you?\\n\"))\n",
    "print(f\"{name} you will be 100 years old in {2023+100-age}\")"
   ]
  }
 ],
 "metadata": {
  "kernelspec": {
   "display_name": "Python 3 (ipykernel)",
   "language": "python",
   "name": "python3"
  },
  "language_info": {
   "codemirror_mode": {
    "name": "ipython",
    "version": 3
   },
   "file_extension": ".py",
   "mimetype": "text/x-python",
   "name": "python",
   "nbconvert_exporter": "python",
   "pygments_lexer": "ipython3",
   "version": "3.9.13"
  }
 },
 "nbformat": 4,
 "nbformat_minor": 5
}
