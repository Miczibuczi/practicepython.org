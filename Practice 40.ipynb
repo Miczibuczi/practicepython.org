{
 "cells": [
  {
   "cell_type": "code",
   "execution_count": 1,
   "id": "a3d371e0",
   "metadata": {},
   "outputs": [],
   "source": [
    "# Given this solution to Exercise 9, modify it to have one level of user feedback: if the user does not enter a number between 1 and 9, tell them. Don’t count this guess against the user when counting the number of guesses they used.\n",
    "# import random\n",
    "# number = random.randint(1, 9)\n",
    "# number_of_guesses = 0\n",
    "# while True:\n",
    "#     guess = int(input(\"Guess a number between 1 and 9: \"))\n",
    "#     number_of_guesses += 1\n",
    "#     if guess == number:\n",
    "#         break\n",
    "# print(f\"You needed {number_of_guesses} guesses to guess the number {number}\")"
   ]
  },
  {
   "cell_type": "code",
   "execution_count": 7,
   "id": "f8e9976c",
   "metadata": {},
   "outputs": [
    {
     "name": "stdout",
     "output_type": "stream",
     "text": [
      "Guess a number between 1 and 9: kjbj\n",
      "ValueError. Please enter an intiger\n",
      "Guess a number between 1 and 9: 156\n",
      "Incorrect number. Please enter a number betwerrn 1 and 9\n",
      "Guess a number between 1 and 9: 1\n",
      "Guess a number between 1 and 9: 2\n",
      "You needed 2 guesses to guess the number 2\n"
     ]
    }
   ],
   "source": [
    "import random\n",
    "\n",
    "number = random.randint(1, 9)\n",
    "number_of_guesses = 0\n",
    "while True:\n",
    "    try:\n",
    "        guess = int(input(\"Guess a number between 1 and 9: \"))\n",
    "        if guess >= 1 and guess <= 9:\n",
    "            number_of_guesses += 1\n",
    "        else:\n",
    "            print(\"Incorrect number. Please enter a number betwerrn 1 and 9\")\n",
    "            continue\n",
    "        if guess == number:\n",
    "            break\n",
    "    except ValueError:\n",
    "        print(\"ValueError. Please enter an intiger\")\n",
    "print(f\"You needed {number_of_guesses} guesses to guess the number {number}\")"
   ]
  },
  {
   "cell_type": "code",
   "execution_count": null,
   "id": "8b71e592",
   "metadata": {},
   "outputs": [],
   "source": []
  }
 ],
 "metadata": {
  "kernelspec": {
   "display_name": "Python 3 (ipykernel)",
   "language": "python",
   "name": "python3"
  },
  "language_info": {
   "codemirror_mode": {
    "name": "ipython",
    "version": 3
   },
   "file_extension": ".py",
   "mimetype": "text/x-python",
   "name": "python",
   "nbconvert_exporter": "python",
   "pygments_lexer": "ipython3",
   "version": "3.9.13"
  }
 },
 "nbformat": 4,
 "nbformat_minor": 5
}
