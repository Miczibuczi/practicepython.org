{
 "cells": [
  {
   "cell_type": "code",
   "execution_count": 12,
   "id": "75e42348",
   "metadata": {},
   "outputs": [],
   "source": [
    "# Take two lists, say for example these two:\n",
    "\n",
    "  # a = [1, 1, 2, 3, 5, 8, 13, 21, 34, 55, 89]\n",
    "  # b = [1, 2, 3, 4, 5, 6, 7, 8, 9, 10, 11, 12, 13]\n",
    "\n",
    "# and write a program that returns a list that contains only the elements that are common between the lists (without duplicates). Make sure your program works on two lists of different sizes.\n",
    "\n",
    "#Extras:\n",
    "    # Randomly generate two lists to test this\n",
    "    # Write this in one line of Python"
   ]
  },
  {
   "cell_type": "code",
   "execution_count": 13,
   "id": "603f8fcc",
   "metadata": {},
   "outputs": [
    {
     "name": "stdout",
     "output_type": "stream",
     "text": [
      "{1, 2, 3, 5, 8, 13}\n"
     ]
    }
   ],
   "source": [
    "  a = [1, 1, 2, 3, 5, 8, 13, 21, 34, 55, 89]\n",
    "  b = [1, 2, 3, 4, 5, 6, 7, 8, 9, 10, 11, 12, 13]\n",
    "\n",
    "\n",
    "c = set(x for x in a if x in b)\n",
    "print(c)"
   ]
  },
  {
   "cell_type": "code",
   "execution_count": 14,
   "id": "8caab613",
   "metadata": {},
   "outputs": [
    {
     "name": "stdout",
     "output_type": "stream",
     "text": [
      "{1, 2, 3, 5, 8, 13}\n"
     ]
    }
   ],
   "source": [
    "d = [1, 5, 12, 5, 3, 95, 252, 15, 11, 2]\n",
    "e = [2, 9, 5, 12, 2, 1, 45, 1, 7, 95, 44]\n",
    "\n",
    "f = set(x for x in d if x in e)\n",
    "print(c)"
   ]
  },
  {
   "cell_type": "code",
   "execution_count": 15,
   "id": "cd9e7d52",
   "metadata": {},
   "outputs": [
    {
     "name": "stdout",
     "output_type": "stream",
     "text": [
      "{1, 2, 5, 12, 95}\n"
     ]
    }
   ],
   "source": [
    "d = [1, 5, 12, 5, 3, 95, 252, 15, 11, 2]\n",
    "e = [2, 9, 5, 12, 2, 1, 45, 1, 7, 95, 44]\n",
    "\n",
    "print(set(x for x in d if x in e))"
   ]
  },
  {
   "cell_type": "code",
   "execution_count": 25,
   "id": "6a99ed0d",
   "metadata": {},
   "outputs": [
    {
     "name": "stdout",
     "output_type": "stream",
     "text": [
      "g = [3, 84, 81, 72, 56, 47, 81, 89, 92, 67, 39, 11, 97, 42, 87]\n",
      "h = [88, 73, 8, 53, 51, 3, 73, 65, 4, 68, 23, 72, 18, 71, 8]\n",
      "{72, 3}\n"
     ]
    }
   ],
   "source": [
    "import random\n",
    "g=[]\n",
    "h=[]\n",
    "for i in range (0,15):\n",
    "    g.append(random.randint(1,100))\n",
    "    h.append(random.randint(1,100))\n",
    "print(\"g =\",g)\n",
    "print(\"h =\",h)\n",
    "print(set(x for x in g if x in h))"
   ]
  }
 ],
 "metadata": {
  "kernelspec": {
   "display_name": "Python 3 (ipykernel)",
   "language": "python",
   "name": "python3"
  },
  "language_info": {
   "codemirror_mode": {
    "name": "ipython",
    "version": 3
   },
   "file_extension": ".py",
   "mimetype": "text/x-python",
   "name": "python",
   "nbconvert_exporter": "python",
   "pygments_lexer": "ipython3",
   "version": "3.9.13"
  }
 },
 "nbformat": 4,
 "nbformat_minor": 5
}
