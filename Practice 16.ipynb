{
 "cells": [
  {
   "cell_type": "code",
   "execution_count": 1,
   "id": "61a13e6f",
   "metadata": {},
   "outputs": [],
   "source": [
    "# Note: this is a 4-chili exercise, not because it introduces a concept, but because this exercise is more like a project. Feel free to skip this and come back when you’re more ready!\n",
    "# Write a password generator in Python. Be creative with how you generate passwords - strong passwords have a mix of lowercase letters, uppercase letters, numbers, and symbols. The passwords should be random, generating a new password every time the user asks for a new password. Include your run-time code in a main method.\n",
    "# Extra:\n",
    "    # Ask the user how strong they want their password to be. For weak passwords, pick a word or two from a list."
   ]
  },
  {
   "cell_type": "code",
   "execution_count": 59,
   "id": "e1d15ba6",
   "metadata": {},
   "outputs": [
    {
     "name": "stdout",
     "output_type": "stream",
     "text": [
      "How many words your password should have? Please enter an intiger.\n",
      "7\n",
      "How many letters should have word No. 1?\n",
      "2\n",
      "How many letters should have word No. 2?\n",
      "9\n",
      "How many letters should have word No. 3?\n",
      "4\n",
      "How many letters should have word No. 4?\n",
      "3\n",
      "How many letters should have word No. 5?\n",
      "8\n",
      "How many letters should have word No. 6?\n",
      "5\n",
      "How many letters should have word No. 7?\n",
      "6\n"
     ]
    },
    {
     "data": {
      "text/plain": [
       "'Nq NAUcVlkQn 2Ugp 1z@ vPfBir7R 95!Dh GpHDOR'"
      ]
     },
     "execution_count": 59,
     "metadata": {},
     "output_type": "execute_result"
    }
   ],
   "source": [
    "def main():\n",
    "    import re\n",
    "    import random\n",
    "    words = \"none\"\n",
    "    while re.match (\"\\D\", words):\n",
    "        words = input(\"How many words your password should have? Please enter an intiger.\\n\")\n",
    "    a = 1\n",
    "    letters_list = []\n",
    "    while a <= int(words):\n",
    "        letters_list.append(input(\"How many letters should have word No. {}?\\n\".format(a)))\n",
    "        a += 1\n",
    "    string = \"qwertyuiopasdfghjklzxcvbnmQWERTYUIOPASDFGHJKLZXCVBNM123456789!@#$%^&\"\n",
    "    password = \"\"\n",
    "    for w in range(0, int(words)):\n",
    "        for l in range(0, int(letters_list[w])):\n",
    "            password += string[random.randint(0,67)]\n",
    "        password += \" \"\n",
    "    password_without_last_space = \"\"\n",
    "    for x in range (0, len(password)-1):\n",
    "        password_without_last_space += password[x]\n",
    "    return password_without_last_space\n",
    "    \n",
    "    \n",
    "main()"
   ]
  },
  {
   "cell_type": "code",
   "execution_count": null,
   "id": "384f2ee7",
   "metadata": {},
   "outputs": [],
   "source": []
  }
 ],
 "metadata": {
  "kernelspec": {
   "display_name": "Python 3 (ipykernel)",
   "language": "python",
   "name": "python3"
  },
  "language_info": {
   "codemirror_mode": {
    "name": "ipython",
    "version": 3
   },
   "file_extension": ".py",
   "mimetype": "text/x-python",
   "name": "python",
   "nbconvert_exporter": "python",
   "pygments_lexer": "ipython3",
   "version": "3.9.13"
  }
 },
 "nbformat": 4,
 "nbformat_minor": 5
}
