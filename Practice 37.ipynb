{
 "cells": [
  {
   "cell_type": "code",
   "execution_count": 36,
   "id": "d260ef0f",
   "metadata": {},
   "outputs": [],
   "source": [
    "# One area of confusion for new coders is the concept of functions (which have been addressed on this blog in exercise 11 for example). So in this exercise, we will be stretching our functions muscle by refactoring an existing code snippet into using functions.\n",
    "# Here is the code snippet to refactor (taken from a correct but very repeated solution to exercise 24 on this website):\n",
    "# print(\" --- --- ---\")\n",
    "# print(\"|   |   |   |\")\n",
    "# print(\" --- --- ---\")\n",
    "# print(\"|   |   |   |\")\n",
    "# print(\" --- --- ---\")\n",
    "# print(\"|   |   |   |\")\n",
    "# print(\" --- --- ---\")\n",
    "# Hint: Think about a way to refactor this using functions where generating an 8x8 or a 19x19 grid is a single change to a function call!"
   ]
  },
  {
   "cell_type": "code",
   "execution_count": 37,
   "id": "90d274e8",
   "metadata": {},
   "outputs": [],
   "source": [
    "def drawboard(rows_columns = 3):\n",
    "    draw_1 = \"\"\n",
    "    draw_2 = \"|\"\n",
    "    x = \" ---\"\n",
    "    y = \"   |\"\n",
    "    \n",
    "    for a in range(rows_columns):\n",
    "        draw_1 = draw_1 + \" ---\"\n",
    "    for b in range(rows_columns):\n",
    "        draw_2 = draw_2 + y\n",
    "    \n",
    "    print(draw_1)\n",
    "    for x in range(rows_columns):\n",
    "        print(draw_2)\n",
    "        print(draw_1)"
   ]
  },
  {
   "cell_type": "code",
   "execution_count": 39,
   "id": "063fcd45",
   "metadata": {},
   "outputs": [
    {
     "name": "stdout",
     "output_type": "stream",
     "text": [
      " --- --- --- --- --- --- --- --- --- --- --- --- --- --- --- --- --- --- ---\n",
      "|   |   |   |   |   |   |   |   |   |   |   |   |   |   |   |   |   |   |   |\n",
      " --- --- --- --- --- --- --- --- --- --- --- --- --- --- --- --- --- --- ---\n",
      "|   |   |   |   |   |   |   |   |   |   |   |   |   |   |   |   |   |   |   |\n",
      " --- --- --- --- --- --- --- --- --- --- --- --- --- --- --- --- --- --- ---\n",
      "|   |   |   |   |   |   |   |   |   |   |   |   |   |   |   |   |   |   |   |\n",
      " --- --- --- --- --- --- --- --- --- --- --- --- --- --- --- --- --- --- ---\n",
      "|   |   |   |   |   |   |   |   |   |   |   |   |   |   |   |   |   |   |   |\n",
      " --- --- --- --- --- --- --- --- --- --- --- --- --- --- --- --- --- --- ---\n",
      "|   |   |   |   |   |   |   |   |   |   |   |   |   |   |   |   |   |   |   |\n",
      " --- --- --- --- --- --- --- --- --- --- --- --- --- --- --- --- --- --- ---\n",
      "|   |   |   |   |   |   |   |   |   |   |   |   |   |   |   |   |   |   |   |\n",
      " --- --- --- --- --- --- --- --- --- --- --- --- --- --- --- --- --- --- ---\n",
      "|   |   |   |   |   |   |   |   |   |   |   |   |   |   |   |   |   |   |   |\n",
      " --- --- --- --- --- --- --- --- --- --- --- --- --- --- --- --- --- --- ---\n",
      "|   |   |   |   |   |   |   |   |   |   |   |   |   |   |   |   |   |   |   |\n",
      " --- --- --- --- --- --- --- --- --- --- --- --- --- --- --- --- --- --- ---\n",
      "|   |   |   |   |   |   |   |   |   |   |   |   |   |   |   |   |   |   |   |\n",
      " --- --- --- --- --- --- --- --- --- --- --- --- --- --- --- --- --- --- ---\n",
      "|   |   |   |   |   |   |   |   |   |   |   |   |   |   |   |   |   |   |   |\n",
      " --- --- --- --- --- --- --- --- --- --- --- --- --- --- --- --- --- --- ---\n",
      "|   |   |   |   |   |   |   |   |   |   |   |   |   |   |   |   |   |   |   |\n",
      " --- --- --- --- --- --- --- --- --- --- --- --- --- --- --- --- --- --- ---\n",
      "|   |   |   |   |   |   |   |   |   |   |   |   |   |   |   |   |   |   |   |\n",
      " --- --- --- --- --- --- --- --- --- --- --- --- --- --- --- --- --- --- ---\n",
      "|   |   |   |   |   |   |   |   |   |   |   |   |   |   |   |   |   |   |   |\n",
      " --- --- --- --- --- --- --- --- --- --- --- --- --- --- --- --- --- --- ---\n",
      "|   |   |   |   |   |   |   |   |   |   |   |   |   |   |   |   |   |   |   |\n",
      " --- --- --- --- --- --- --- --- --- --- --- --- --- --- --- --- --- --- ---\n",
      "|   |   |   |   |   |   |   |   |   |   |   |   |   |   |   |   |   |   |   |\n",
      " --- --- --- --- --- --- --- --- --- --- --- --- --- --- --- --- --- --- ---\n",
      "|   |   |   |   |   |   |   |   |   |   |   |   |   |   |   |   |   |   |   |\n",
      " --- --- --- --- --- --- --- --- --- --- --- --- --- --- --- --- --- --- ---\n",
      "|   |   |   |   |   |   |   |   |   |   |   |   |   |   |   |   |   |   |   |\n",
      " --- --- --- --- --- --- --- --- --- --- --- --- --- --- --- --- --- --- ---\n",
      "|   |   |   |   |   |   |   |   |   |   |   |   |   |   |   |   |   |   |   |\n",
      " --- --- --- --- --- --- --- --- --- --- --- --- --- --- --- --- --- --- ---\n",
      "|   |   |   |   |   |   |   |   |   |   |   |   |   |   |   |   |   |   |   |\n",
      " --- --- --- --- --- --- --- --- --- --- --- --- --- --- --- --- --- --- ---\n"
     ]
    }
   ],
   "source": [
    "drawboard(19)"
   ]
  },
  {
   "cell_type": "code",
   "execution_count": null,
   "id": "dfba2f98",
   "metadata": {},
   "outputs": [],
   "source": []
  }
 ],
 "metadata": {
  "kernelspec": {
   "display_name": "Python 3 (ipykernel)",
   "language": "python",
   "name": "python3"
  },
  "language_info": {
   "codemirror_mode": {
    "name": "ipython",
    "version": 3
   },
   "file_extension": ".py",
   "mimetype": "text/x-python",
   "name": "python",
   "nbconvert_exporter": "python",
   "pygments_lexer": "ipython3",
   "version": "3.9.13"
  }
 },
 "nbformat": 4,
 "nbformat_minor": 5
}
