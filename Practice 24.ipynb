{
 "cells": [
  {
   "cell_type": "code",
   "execution_count": 119,
   "id": "f7b85782",
   "metadata": {},
   "outputs": [
    {
     "ename": "IndentationError",
     "evalue": "unexpected indent (2118702408.py, line 3)",
     "output_type": "error",
     "traceback": [
      "\u001b[1;36m  File \u001b[1;32m\"C:\\Users\\HP\\AppData\\Local\\Temp\\ipykernel_10400\\2118702408.py\"\u001b[1;36m, line \u001b[1;32m3\u001b[0m\n\u001b[1;33m    --- --- ---\u001b[0m\n\u001b[1;37m    ^\u001b[0m\n\u001b[1;31mIndentationError\u001b[0m\u001b[1;31m:\u001b[0m unexpected indent\n"
     ]
    }
   ],
   "source": [
    "#  This exercise is Part 1 of 4 of the Tic Tac Toe exercise series. The other exercises are: Practice 26, Practice 27, and Practice 29.\n",
    "# Time for some fake graphics! Let’s say we want to draw game boards that look like this:\n",
    " --- --- --- \n",
    "|   |   |   | \n",
    " --- --- ---  \n",
    "|   |   |   | \n",
    " --- --- ---  \n",
    "|   |   |   | \n",
    " --- --- --- \n",
    "# This one is 3x3 (like in tic tac toe). Obviously, they come in many other sizes (8x8 for chess, 19x19 for Go, and many more).\n",
    "# Ask the user what size game board they want to draw, and draw it for them to the screen using Python’s print statement."
   ]
  },
  {
   "cell_type": "code",
   "execution_count": 2,
   "id": "73d9620d",
   "metadata": {},
   "outputs": [
    {
     "name": "stdout",
     "output_type": "stream",
     "text": [
      "Please enter how many columns the board should have\n",
      "3\n",
      "Please enter how many rows the board should have\n",
      "3\n",
      " --- --- --- \n",
      "|   |   |   | \n",
      " --- --- --- \n",
      "|   |   |   | \n",
      " --- --- --- \n",
      "|   |   |   | \n",
      " --- --- --- "
     ]
    }
   ],
   "source": [
    "columns = 0\n",
    "rows = 0\n",
    "\n",
    "def columns_rows():\n",
    "    global columns\n",
    "    global rows\n",
    "    columns = int(input(\"Please enter how many columns the board should have\\n\"))\n",
    "    rows = int(input(\"Please enter how many rows the board should have\\n\"))\n",
    "\n",
    "while True:\n",
    "    if columns > 0 and rows > 0:\n",
    "        break\n",
    "    else:\n",
    "        columns_rows()\n",
    "\n",
    "x = \" ---\"\n",
    "x1 = \"---\"\n",
    "y = \"|   |\"\n",
    "y1 = \"  |\"\n",
    "\n",
    "list_1 = [x]\n",
    "for i in range(columns-1):\n",
    "    list_1.append(x1)\n",
    "for something in list_1:\n",
    "    print(something, end=\" \")\n",
    "\n",
    "for something in range(rows):\n",
    "    print(\"\")\n",
    "    list_2 = [y]\n",
    "    for i in range(columns-1):\n",
    "        list_2.append(y1)\n",
    "    for something in list_2:\n",
    "        print(something, end=\" \")\n",
    "\n",
    "    print(\"\")\n",
    "\n",
    "    list_1 = [x]\n",
    "    for i in range(columns-1):\n",
    "        list_1.append(x1)\n",
    "    for something in list_1:\n",
    "        print(something, end=\" \")"
   ]
  },
  {
   "cell_type": "code",
   "execution_count": null,
   "id": "77308ee1",
   "metadata": {},
   "outputs": [],
   "source": []
  }
 ],
 "metadata": {
  "kernelspec": {
   "display_name": "Python 3 (ipykernel)",
   "language": "python",
   "name": "python3"
  },
  "language_info": {
   "codemirror_mode": {
    "name": "ipython",
    "version": 3
   },
   "file_extension": ".py",
   "mimetype": "text/x-python",
   "name": "python",
   "nbconvert_exporter": "python",
   "pygments_lexer": "ipython3",
   "version": "3.9.13"
  }
 },
 "nbformat": 4,
 "nbformat_minor": 5
}
