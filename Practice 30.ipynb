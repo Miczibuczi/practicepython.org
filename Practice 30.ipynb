{
 "cells": [
  {
   "cell_type": "code",
   "execution_count": null,
   "id": "7f886218",
   "metadata": {},
   "outputs": [],
   "source": [
    "# This exercise is Part 1 of 3 of the Hangman exercise series.\n",
    "# In this exercise, the task is to write a function that picks a random word from a list of words from the SOWPODS dictionary. Download this file and save it in the same directory as your Python code. This file is Peter Norvig’s compilation of the dictionary of words used in professional Scrabble tournaments. Each line in the file contains a single word."
   ]
  },
  {
   "cell_type": "code",
   "execution_count": 175,
   "id": "e9f921dc",
   "metadata": {},
   "outputs": [],
   "source": [
    "# Generator is in the 1 cell. Remaining cells were needed to create it.\n",
    "def random_word_generator():\n",
    "    a = 267751\n",
    "    import random\n",
    "    A = random.randint(0, a-1)\n",
    "    list_of_words = []\n",
    "    with open (\"30_practice.txt\", \"r\") as file:\n",
    "        line = file.readline()\n",
    "        while line:\n",
    "            list_of_words.append(line.strip())\n",
    "            line = file.readline()\n",
    "    return list_of_words[A]"
   ]
  },
  {
   "cell_type": "code",
   "execution_count": null,
   "id": "524efe86",
   "metadata": {},
   "outputs": [],
   "source": []
  },
  {
   "cell_type": "code",
   "execution_count": 47,
   "id": "316c109f",
   "metadata": {},
   "outputs": [],
   "source": [
    "# Use it to create a file with words on your computer\n",
    "import requests\n",
    "r = requests.get(\"http://norvig.com/ngrams/sowpods.txt\")\n",
    "\n",
    "from bs4 import BeautifulSoup\n",
    "soup = BeautifulSoup(r.text)\n",
    "words = soup.text.split(\"/\")\n",
    "\n",
    "with open (\"30_practice.txt\", \"w\") as file:\n",
    "    for word in words:\n",
    "        file.write(word)"
   ]
  },
  {
   "cell_type": "code",
   "execution_count": 48,
   "id": "901ab45f",
   "metadata": {},
   "outputs": [
    {
     "name": "stdout",
     "output_type": "stream",
     "text": [
      "267751\n"
     ]
    }
   ],
   "source": [
    "# Check how many words is in the file\n",
    "with open (\"30_practice.txt\", \"r\") as file:\n",
    "    line = file.readline()\n",
    "    a = 0\n",
    "    while line:\n",
    "        a += 1\n",
    "        line = file.readline()\n",
    "print(a)"
   ]
  }
 ],
 "metadata": {
  "kernelspec": {
   "display_name": "Python 3 (ipykernel)",
   "language": "python",
   "name": "python3"
  },
  "language_info": {
   "codemirror_mode": {
    "name": "ipython",
    "version": 3
   },
   "file_extension": ".py",
   "mimetype": "text/x-python",
   "name": "python",
   "nbconvert_exporter": "python",
   "pygments_lexer": "ipython3",
   "version": "3.9.13"
  }
 },
 "nbformat": 4,
 "nbformat_minor": 5
}
